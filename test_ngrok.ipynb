{
  "nbformat": 4,
  "nbformat_minor": 0,
  "metadata": {
    "colab": {
      "name": "test_ngrok.ipynb",
      "provenance": [],
      "collapsed_sections": [],
      "mount_file_id": "18_MsTffgRH9Zh5t897d6vZOAOKVfANYz",
      "authorship_tag": "ABX9TyO7gAUgN179QbTzlGclxnKe",
      "include_colab_link": true
    },
    "kernelspec": {
      "name": "python3",
      "display_name": "Python 3"
    }
  },
  "cells": [
    {
      "cell_type": "markdown",
      "metadata": {
        "id": "view-in-github",
        "colab_type": "text"
      },
      "source": [
        "<a href=\"https://colab.research.google.com/github/j-enufani/tutorial/blob/master/test_ngrok.ipynb\" target=\"_parent\"><img src=\"https://colab.research.google.com/assets/colab-badge.svg\" alt=\"Open In Colab\"/></a>"
      ]
    },
    {
      "cell_type": "code",
      "metadata": {
        "id": "zItiuKbdAoul",
        "colab_type": "code",
        "cellView": "code",
        "outputId": "2df3e79e-5de0-4dd6-efe9-626cab77c11c",
        "colab": {
          "base_uri": "https://localhost:8080/",
          "height": 405
        }
      },
      "source": [
        "#@title デフォルトのタイトル テキスト\n",
        "import os\n",
        "import shutil\n",
        "\n",
        "# ngrok環境を作成\n",
        "if not os.path.exists( \"ngrok\" ):\n",
        "    !wget https://bin.equinox.io/c/4VmDzA7iaHb/ngrok-stable-linux-amd64.zip\n",
        "    !unzip ngrok-stable-linux-amd64.zip\n",
        "\n",
        "# templatesフォルダを作成\n",
        "if not os.path.isdir( \"templates\" ):\n",
        "    os.makedirs( \"templates\" )\n",
        "\n",
        "# img（画像格納用）フォルダを作成\n",
        "if not os.path.isdir( \"img\" ):\n",
        "    os.makedirs( \"img\" )\n",
        "\n",
        "# MyDriveのhtmlファイルをtemplatesフォルダにコピー\n",
        "shutil.copy2(\"drive/My Drive/Colab Notebooks/html/index.html\", \"templates/index.html\")\n",
        "\n",
        "# 「ngrok」のWebAPサーバーのアドレス取得\n",
        "get_ipython().system_raw('./ngrok http 6006 &')\n",
        "! curl -s http://localhost:4040/api/tunnels | python3 -c \\\n",
        "    \"import sys, json; print(json.load(sys.stdin)['tunnels'][0]['public_url'])\"\n",
        "\n",
        "# WebAPサーバー起動(Pythonコードは理解していないがこれでAPサーバー始動)\n",
        "from flask import Flask, render_template, send_from_directory, request, redirect, url_for\n",
        "import numpy as np\n",
        "import matplotlib.pyplot as plt\n",
        "\n",
        "app = Flask(__name__)\n",
        "@app.route(\"/\")\n",
        "def index():\n",
        "    print('indexを描画')\n",
        "    return render_template( \"index.html\" )\n",
        "\n",
        "@app.route('/post', methods=['POST'])\n",
        "def post():\n",
        "    print('postが実行')\n",
        "    # 画像を読み込み\n",
        "    img = plt.imread(\"drive/My Drive/family/ten/IMG_0186.JPG\")\n",
        "    plt.figure(figsize=(5, 5), dpi=50)\n",
        "    # 画像を保存\n",
        "    url_Image = \"img/test_pict.png\"\n",
        "    plt.imshow(img)\n",
        "    plt.savefig(url_Image)\n",
        "    # postで画面に返す\n",
        "    return render_template( \"index.html\",\n",
        "                           url_Image = url_Image,\n",
        "                           result_class = \"テスト_result_class\",\n",
        "                           result_score = \"テスト_result_score\")\n",
        "    \n",
        "@app.route('/img/<filename>')\n",
        "def uploaded_file(filename):\n",
        "    print('imgフォルダを画像フォルダとして認識させる')\n",
        "    return send_from_directory(\"./img\", filename)\n",
        "\n",
        "if __name__ == '__main__':\n",
        "    app.run(port=6006)"
      ],
      "execution_count": 0,
      "outputs": [
        {
          "output_type": "stream",
          "text": [
            "https://88bec961.ngrok.io\n",
            " * Serving Flask app \"__main__\" (lazy loading)\n",
            " * Environment: production\n",
            "   WARNING: This is a development server. Do not use it in a production deployment.\n",
            "   Use a production WSGI server instead.\n",
            " * Debug mode: off\n"
          ],
          "name": "stdout"
        },
        {
          "output_type": "stream",
          "text": [
            " * Running on http://127.0.0.1:6006/ (Press CTRL+C to quit)\n",
            "127.0.0.1 - - [11/Feb/2020 13:43:54] \"\u001b[37mGET / HTTP/1.1\u001b[0m\" 200 -\n"
          ],
          "name": "stderr"
        },
        {
          "output_type": "stream",
          "text": [
            "indexを描画\n"
          ],
          "name": "stdout"
        },
        {
          "output_type": "stream",
          "text": [
            "127.0.0.1 - - [11/Feb/2020 13:43:55] \"\u001b[33mGET /favicon.ico HTTP/1.1\u001b[0m\" 404 -\n",
            "127.0.0.1 - - [11/Feb/2020 13:45:45] \"\u001b[37mGET / HTTP/1.1\u001b[0m\" 200 -\n"
          ],
          "name": "stderr"
        },
        {
          "output_type": "stream",
          "text": [
            "indexを描画\n"
          ],
          "name": "stdout"
        }
      ]
    },
    {
      "cell_type": "code",
      "metadata": {
        "id": "XIlWGNv-Fxrb",
        "colab_type": "code",
        "colab": {}
      },
      "source": [
        "import numpy as np\n",
        "import matplotlib\n",
        "matplotlib.use('Agg') # -----(1)\n",
        "import matplotlib.pyplot as plt\n",
        "\n",
        "if __name__ == '__main__':\n",
        "\n",
        "    # 画像を読み込み\n",
        "    img = plt.imread(\"drive/My Drive/family/ten/IMG_0186.JPG\")\n",
        "    plt.figure(figsize=(5, 5), dpi=50)\n",
        "    # ファイル名を乱数で生成\n",
        "    fileName = str(np.random.randint(1000)) + \".jpg\"\n",
        "    # 画像を保存\n",
        "    ulr_Image = \"img/\" + fileName\n",
        "    plt.imshow(img)\n",
        "    plt.savefig(ulr_Image)\n"
      ],
      "execution_count": 0,
      "outputs": []
    }
  ]
}